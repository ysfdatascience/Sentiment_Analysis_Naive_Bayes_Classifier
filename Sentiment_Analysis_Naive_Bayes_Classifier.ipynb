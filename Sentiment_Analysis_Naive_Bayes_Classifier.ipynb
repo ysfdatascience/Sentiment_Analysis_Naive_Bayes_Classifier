{
 "cells": [
  {
   "cell_type": "code",
   "execution_count": null,
   "id": "196f5b55-726a-4255-adfe-91ce22c90c78",
   "metadata": {},
   "outputs": [],
   "source": [
    "import numpy as np\n",
    "import pandas as pd\n",
    "import os\n",
    "import matplotlib.pyplot as plt\n",
    "import seaborn as sns\n",
    "path = os.environ.get(\"store_data\")\n",
    "store = pd.HDFStore(path=path)"
   ]
  },
  {
   "cell_type": "code",
   "execution_count": 3,
   "id": "02b874aa-3004-4ee3-9a15-aee9015d8c76",
   "metadata": {},
   "outputs": [
    {
     "data": {
      "text/html": [
       "<div>\n",
       "<style scoped>\n",
       "    .dataframe tbody tr th:only-of-type {\n",
       "        vertical-align: middle;\n",
       "    }\n",
       "\n",
       "    .dataframe tbody tr th {\n",
       "        vertical-align: top;\n",
       "    }\n",
       "\n",
       "    .dataframe thead th {\n",
       "        text-align: right;\n",
       "    }\n",
       "</style>\n",
       "<table border=\"1\" class=\"dataframe\">\n",
       "  <thead>\n",
       "    <tr style=\"text-align: right;\">\n",
       "      <th></th>\n",
       "      <th>Clothing ID</th>\n",
       "      <th>Age</th>\n",
       "      <th>Title</th>\n",
       "      <th>Review Text</th>\n",
       "      <th>Rating</th>\n",
       "      <th>Division Name</th>\n",
       "      <th>Department Name</th>\n",
       "      <th>Class Name</th>\n",
       "    </tr>\n",
       "  </thead>\n",
       "  <tbody>\n",
       "    <tr>\n",
       "      <th>0</th>\n",
       "      <td>767</td>\n",
       "      <td>33</td>\n",
       "      <td>NaN</td>\n",
       "      <td>Absolutely wonderful - silky and sexy and comf...</td>\n",
       "      <td>4</td>\n",
       "      <td>Initmates</td>\n",
       "      <td>Intimate</td>\n",
       "      <td>Intimates</td>\n",
       "    </tr>\n",
       "    <tr>\n",
       "      <th>1</th>\n",
       "      <td>1080</td>\n",
       "      <td>34</td>\n",
       "      <td>NaN</td>\n",
       "      <td>Love this dress!  it's sooo pretty.  i happene...</td>\n",
       "      <td>5</td>\n",
       "      <td>General</td>\n",
       "      <td>Dresses</td>\n",
       "      <td>Dresses</td>\n",
       "    </tr>\n",
       "    <tr>\n",
       "      <th>2</th>\n",
       "      <td>1077</td>\n",
       "      <td>60</td>\n",
       "      <td>Some major design flaws</td>\n",
       "      <td>I had such high hopes for this dress and reall...</td>\n",
       "      <td>3</td>\n",
       "      <td>General</td>\n",
       "      <td>Dresses</td>\n",
       "      <td>Dresses</td>\n",
       "    </tr>\n",
       "    <tr>\n",
       "      <th>3</th>\n",
       "      <td>1049</td>\n",
       "      <td>50</td>\n",
       "      <td>My favorite buy!</td>\n",
       "      <td>I love, love, love this jumpsuit. it's fun, fl...</td>\n",
       "      <td>5</td>\n",
       "      <td>General Petite</td>\n",
       "      <td>Bottoms</td>\n",
       "      <td>Pants</td>\n",
       "    </tr>\n",
       "    <tr>\n",
       "      <th>4</th>\n",
       "      <td>847</td>\n",
       "      <td>47</td>\n",
       "      <td>Flattering shirt</td>\n",
       "      <td>This shirt is very flattering to all due to th...</td>\n",
       "      <td>5</td>\n",
       "      <td>General</td>\n",
       "      <td>Tops</td>\n",
       "      <td>Blouses</td>\n",
       "    </tr>\n",
       "  </tbody>\n",
       "</table>\n",
       "</div>"
      ],
      "text/plain": [
       "   Clothing ID  Age                    Title  \\\n",
       "0          767   33                      NaN   \n",
       "1         1080   34                      NaN   \n",
       "2         1077   60  Some major design flaws   \n",
       "3         1049   50         My favorite buy!   \n",
       "4          847   47         Flattering shirt   \n",
       "\n",
       "                                         Review Text  Rating   Division Name  \\\n",
       "0  Absolutely wonderful - silky and sexy and comf...       4       Initmates   \n",
       "1  Love this dress!  it's sooo pretty.  i happene...       5         General   \n",
       "2  I had such high hopes for this dress and reall...       3         General   \n",
       "3  I love, love, love this jumpsuit. it's fun, fl...       5  General Petite   \n",
       "4  This shirt is very flattering to all due to th...       5         General   \n",
       "\n",
       "  Department Name Class Name  \n",
       "0        Intimate  Intimates  \n",
       "1         Dresses    Dresses  \n",
       "2         Dresses    Dresses  \n",
       "3         Bottoms      Pants  \n",
       "4            Tops    Blouses  "
      ]
     },
     "execution_count": 3,
     "metadata": {},
     "output_type": "execute_result"
    }
   ],
   "source": [
    "df = store[\"Womens Clothing E-Commerce Reviews\"];df.head()"
   ]
  },
  {
   "cell_type": "code",
   "execution_count": 4,
   "id": "cfcf5fe2-d628-4da8-bf08-fe100b77f79d",
   "metadata": {},
   "outputs": [],
   "source": [
    "df.columns = list(map(lambda x: x.lower(), df.columns))\n",
    "df.columns  = list(map(lambda x: x.replace(\" \", \"_\"), df.columns))"
   ]
  },
  {
   "cell_type": "code",
   "execution_count": 5,
   "id": "8b434759-02d1-4be5-8d21-47a09f397efc",
   "metadata": {},
   "outputs": [
    {
     "data": {
      "text/html": [
       "<div>\n",
       "<style scoped>\n",
       "    .dataframe tbody tr th:only-of-type {\n",
       "        vertical-align: middle;\n",
       "    }\n",
       "\n",
       "    .dataframe tbody tr th {\n",
       "        vertical-align: top;\n",
       "    }\n",
       "\n",
       "    .dataframe thead th {\n",
       "        text-align: right;\n",
       "    }\n",
       "</style>\n",
       "<table border=\"1\" class=\"dataframe\">\n",
       "  <thead>\n",
       "    <tr style=\"text-align: right;\">\n",
       "      <th></th>\n",
       "      <th>clothing_id</th>\n",
       "      <th>age</th>\n",
       "      <th>title</th>\n",
       "      <th>review_text</th>\n",
       "      <th>rating</th>\n",
       "      <th>division_name</th>\n",
       "      <th>department_name</th>\n",
       "      <th>class_name</th>\n",
       "    </tr>\n",
       "  </thead>\n",
       "  <tbody>\n",
       "    <tr>\n",
       "      <th>0</th>\n",
       "      <td>767</td>\n",
       "      <td>33</td>\n",
       "      <td>NaN</td>\n",
       "      <td>Absolutely wonderful - silky and sexy and comf...</td>\n",
       "      <td>4</td>\n",
       "      <td>Initmates</td>\n",
       "      <td>Intimate</td>\n",
       "      <td>Intimates</td>\n",
       "    </tr>\n",
       "    <tr>\n",
       "      <th>1</th>\n",
       "      <td>1080</td>\n",
       "      <td>34</td>\n",
       "      <td>NaN</td>\n",
       "      <td>Love this dress!  it's sooo pretty.  i happene...</td>\n",
       "      <td>5</td>\n",
       "      <td>General</td>\n",
       "      <td>Dresses</td>\n",
       "      <td>Dresses</td>\n",
       "    </tr>\n",
       "    <tr>\n",
       "      <th>2</th>\n",
       "      <td>1077</td>\n",
       "      <td>60</td>\n",
       "      <td>Some major design flaws</td>\n",
       "      <td>I had such high hopes for this dress and reall...</td>\n",
       "      <td>3</td>\n",
       "      <td>General</td>\n",
       "      <td>Dresses</td>\n",
       "      <td>Dresses</td>\n",
       "    </tr>\n",
       "    <tr>\n",
       "      <th>3</th>\n",
       "      <td>1049</td>\n",
       "      <td>50</td>\n",
       "      <td>My favorite buy!</td>\n",
       "      <td>I love, love, love this jumpsuit. it's fun, fl...</td>\n",
       "      <td>5</td>\n",
       "      <td>General Petite</td>\n",
       "      <td>Bottoms</td>\n",
       "      <td>Pants</td>\n",
       "    </tr>\n",
       "    <tr>\n",
       "      <th>4</th>\n",
       "      <td>847</td>\n",
       "      <td>47</td>\n",
       "      <td>Flattering shirt</td>\n",
       "      <td>This shirt is very flattering to all due to th...</td>\n",
       "      <td>5</td>\n",
       "      <td>General</td>\n",
       "      <td>Tops</td>\n",
       "      <td>Blouses</td>\n",
       "    </tr>\n",
       "  </tbody>\n",
       "</table>\n",
       "</div>"
      ],
      "text/plain": [
       "   clothing_id  age                    title  \\\n",
       "0          767   33                      NaN   \n",
       "1         1080   34                      NaN   \n",
       "2         1077   60  Some major design flaws   \n",
       "3         1049   50         My favorite buy!   \n",
       "4          847   47         Flattering shirt   \n",
       "\n",
       "                                         review_text  rating   division_name  \\\n",
       "0  Absolutely wonderful - silky and sexy and comf...       4       Initmates   \n",
       "1  Love this dress!  it's sooo pretty.  i happene...       5         General   \n",
       "2  I had such high hopes for this dress and reall...       3         General   \n",
       "3  I love, love, love this jumpsuit. it's fun, fl...       5  General Petite   \n",
       "4  This shirt is very flattering to all due to th...       5         General   \n",
       "\n",
       "  department_name class_name  \n",
       "0        Intimate  Intimates  \n",
       "1         Dresses    Dresses  \n",
       "2         Dresses    Dresses  \n",
       "3         Bottoms      Pants  \n",
       "4            Tops    Blouses  "
      ]
     },
     "execution_count": 5,
     "metadata": {},
     "output_type": "execute_result"
    }
   ],
   "source": [
    "df.head()"
   ]
  },
  {
   "cell_type": "code",
   "execution_count": 6,
   "id": "05a1f695-712a-4e18-b0c6-3d608be82d4a",
   "metadata": {},
   "outputs": [
    {
     "data": {
      "text/html": [
       "<div>\n",
       "<style scoped>\n",
       "    .dataframe tbody tr th:only-of-type {\n",
       "        vertical-align: middle;\n",
       "    }\n",
       "\n",
       "    .dataframe tbody tr th {\n",
       "        vertical-align: top;\n",
       "    }\n",
       "\n",
       "    .dataframe thead th {\n",
       "        text-align: right;\n",
       "    }\n",
       "</style>\n",
       "<table border=\"1\" class=\"dataframe\">\n",
       "  <thead>\n",
       "    <tr style=\"text-align: right;\">\n",
       "      <th></th>\n",
       "      <th>clothing_id</th>\n",
       "      <th>age</th>\n",
       "      <th>title</th>\n",
       "      <th>review_text</th>\n",
       "      <th>rating</th>\n",
       "      <th>division_name</th>\n",
       "      <th>department_name</th>\n",
       "      <th>class_name</th>\n",
       "    </tr>\n",
       "  </thead>\n",
       "  <tbody>\n",
       "    <tr>\n",
       "      <th>dtypes</th>\n",
       "      <td>int64</td>\n",
       "      <td>int64</td>\n",
       "      <td>object</td>\n",
       "      <td>object</td>\n",
       "      <td>int64</td>\n",
       "      <td>object</td>\n",
       "      <td>object</td>\n",
       "      <td>object</td>\n",
       "    </tr>\n",
       "  </tbody>\n",
       "</table>\n",
       "</div>"
      ],
      "text/plain": [
       "       clothing_id    age   title review_text rating division_name  \\\n",
       "dtypes       int64  int64  object      object  int64        object   \n",
       "\n",
       "       department_name class_name  \n",
       "dtypes          object     object  "
      ]
     },
     "execution_count": 6,
     "metadata": {},
     "output_type": "execute_result"
    }
   ],
   "source": [
    "df.dtypes.to_frame(name = \"dtypes\").T"
   ]
  },
  {
   "cell_type": "code",
   "execution_count": 7,
   "id": "41db5b5d-00c4-46dd-9afb-edaaf8092d20",
   "metadata": {},
   "outputs": [
    {
     "data": {
      "text/html": [
       "<div>\n",
       "<style scoped>\n",
       "    .dataframe tbody tr th:only-of-type {\n",
       "        vertical-align: middle;\n",
       "    }\n",
       "\n",
       "    .dataframe tbody tr th {\n",
       "        vertical-align: top;\n",
       "    }\n",
       "\n",
       "    .dataframe thead th {\n",
       "        text-align: right;\n",
       "    }\n",
       "</style>\n",
       "<table border=\"1\" class=\"dataframe\">\n",
       "  <thead>\n",
       "    <tr style=\"text-align: right;\">\n",
       "      <th></th>\n",
       "      <th>clothing_id</th>\n",
       "      <th>age</th>\n",
       "      <th>title</th>\n",
       "      <th>review_text</th>\n",
       "      <th>rating</th>\n",
       "      <th>division_name</th>\n",
       "      <th>department_name</th>\n",
       "      <th>class_name</th>\n",
       "    </tr>\n",
       "  </thead>\n",
       "  <tbody>\n",
       "    <tr>\n",
       "      <th>total_nulls</th>\n",
       "      <td>0</td>\n",
       "      <td>0</td>\n",
       "      <td>3810</td>\n",
       "      <td>845</td>\n",
       "      <td>0</td>\n",
       "      <td>14</td>\n",
       "      <td>14</td>\n",
       "      <td>14</td>\n",
       "    </tr>\n",
       "  </tbody>\n",
       "</table>\n",
       "</div>"
      ],
      "text/plain": [
       "             clothing_id  age  title  review_text  rating  division_name  \\\n",
       "total_nulls            0    0   3810          845       0             14   \n",
       "\n",
       "             department_name  class_name  \n",
       "total_nulls               14          14  "
      ]
     },
     "execution_count": 7,
     "metadata": {},
     "output_type": "execute_result"
    }
   ],
   "source": [
    "df.isnull().sum().to_frame(name = \"total_nulls\").T"
   ]
  },
  {
   "cell_type": "code",
   "execution_count": 8,
   "id": "94a10592-722f-4fbb-bec1-fef3be11ef09",
   "metadata": {},
   "outputs": [],
   "source": [
    "df2 = df.dropna(axis = 0, subset=[\"review_text\"], ignore_index=True)"
   ]
  },
  {
   "cell_type": "code",
   "execution_count": null,
   "id": "a22a39f8-2953-4b3e-a077-0c5a9d3b9417",
   "metadata": {},
   "outputs": [],
   "source": []
  },
  {
   "cell_type": "code",
   "execution_count": 9,
   "id": "e01f2fdd-5fb2-46f6-bead-8c6367a8323a",
   "metadata": {},
   "outputs": [
    {
     "data": {
      "image/png": "[encoded data removed]",
      "text/plain": [
       "<Figure size 1000x600 with 1 Axes>"
      ]
     },
     "metadata": {},
     "output_type": "display_data"
    },
    {
     "data": {
      "text/html": [
       "<style type=\"text/css\">\n",
       "</style>\n",
       "<table id=\"T_f321e\">\n",
       "  <thead>\n",
       "    <tr>\n",
       "      <th class=\"blank level0\" >&nbsp;</th>\n",
       "      <th id=\"T_f321e_level0_col0\" class=\"col_heading level0 col0\" >count</th>\n",
       "      <th id=\"T_f321e_level0_col1\" class=\"col_heading level0 col1\" >mean</th>\n",
       "      <th id=\"T_f321e_level0_col2\" class=\"col_heading level0 col2\" >std</th>\n",
       "      <th id=\"T_f321e_level0_col3\" class=\"col_heading level0 col3\" >min</th>\n",
       "      <th id=\"T_f321e_level0_col4\" class=\"col_heading level0 col4\" >50%</th>\n",
       "      <th id=\"T_f321e_level0_col5\" class=\"col_heading level0 col5\" >max</th>\n",
       "    </tr>\n",
       "  </thead>\n",
       "  <tbody>\n",
       "    <tr>\n",
       "      <th id=\"T_f321e_level0_row0\" class=\"row_heading level0 row0\" >statistic</th>\n",
       "      <td id=\"T_f321e_row0_col0\" class=\"data row0 col0\" >22,641,00</td>\n",
       "      <td id=\"T_f321e_row0_col1\" class=\"data row0 col1\" >4,18</td>\n",
       "      <td id=\"T_f321e_row0_col2\" class=\"data row0 col2\" >1,12</td>\n",
       "      <td id=\"T_f321e_row0_col3\" class=\"data row0 col3\" >1,00</td>\n",
       "      <td id=\"T_f321e_row0_col4\" class=\"data row0 col4\" >5,00</td>\n",
       "      <td id=\"T_f321e_row0_col5\" class=\"data row0 col5\" >5,00</td>\n",
       "    </tr>\n",
       "  </tbody>\n",
       "</table>\n"
      ],
      "text/plain": [
       "<pandas.io.formats.style.Styler at 0x1dc630f7bf0>"
      ]
     },
     "execution_count": 9,
     "metadata": {},
     "output_type": "execute_result"
    }
   ],
   "source": [
    "plt.figure(figsize=(10, 6))\n",
    "plt.hist(df2[\"rating\"], bins=range(1, 7), align='left', rwidth=0.9, color='skyblue', edgecolor='gray')\n",
    "plt.title(\"Distribution of Ratings\")\n",
    "plt.xlabel(\"Rating\")\n",
    "plt.ylabel(\"Frequency\")\n",
    "plt.xticks(range(1, 6))\n",
    "plt.grid(axis='y')\n",
    "plt.show()\n",
    "df2[\"rating\"].describe(percentiles=[]).to_frame(name = \"statistic\").T.style.format(thousands = \",\", decimal = \",\", precision = 2)"
   ]
  },
  {
   "cell_type": "code",
   "execution_count": 212,
   "id": "1a69e837-c7e4-4d2c-9602-6033103001e8",
   "metadata": {},
   "outputs": [],
   "source": [
    "df2.loc[: ,\"review_text_len\"] = df2.loc[:, \"review_text\"].str.len()"
   ]
  },
  {
   "cell_type": "code",
   "execution_count": 11,
   "id": "e6fa0bfd-4aff-4c9e-8eae-89932887b6af",
   "metadata": {},
   "outputs": [
    {
     "name": "stdout",
     "output_type": "stream",
     "text": [
      "the correlation beetween rating and review length is: -0.06\n",
      "The longer the review, the more likely it is to be negatively rated.\n",
      "But  since the correlation value is very close to zero, we can also comment that there is no significant relationship between the two variables.\n"
     ]
    }
   ],
   "source": [
    "from scipy.stats import pearsonr\n",
    "correlation = pearsonr(df2[\"rating\"], df2[\"review_text_len\"])\n",
    "print(f\"the correlation beetween rating and review length is: {correlation[0]:.2f}\\nThe longer the review, the more likely it is to be negatively rated.\\nBut  since the correlation value is very close to zero, we can also comment that there is no significant relationship between the two variables.\")"
   ]
  },
  {
   "cell_type": "code",
   "execution_count": 12,
   "id": "523e4c2d-0dbb-4345-954c-af3edb855865",
   "metadata": {},
   "outputs": [
    {
     "data": {
      "text/plain": [
       "{'positive_pattern': 11929,\n",
       " 'negative_pattern': 978,\n",
       " 'question': 7072,\n",
       " 'exclamation': 104,\n",
       " 'capital_words': 0}"
      ]
     },
     "execution_count": 12,
     "metadata": {},
     "output_type": "execute_result"
    }
   ],
   "source": [
    "import re\n",
    "pattern_dict = {\n",
    "      \"positive_pattern\":re.compile(r'\\b(great|good|excellent|amazing|love|best|awesome|fantastic|wonderful|brilliant|incredible|outstanding|superb|marvelous|impressive)\\b'),               \"negative_pattern\":re.compile(r'\\b(terrible|awful|horrible|poor|worst|bad|dreadful|hate|dislike|despise|detest|loathe|disappointing|unacceptable|annoying|frustrating|pathetic|failure|ruin|disaster|nightmare)\\b'),\n",
    "    \"question\": re.compile(r'\\b(who|what|where|when|why|how|which|is it|are they|does anyone|could you|would it|might I|can we|do you think)\\b'),\n",
    "    \"exclamation\": re.compile(r'\\b(wow|oh my|amazing!|incredible!|no way!|unbelievable!|fantastic!|whoa!|awesome!|ouch!|yay!)\\b'),\n",
    "    \"capital_words\": re.compile(r'\\b([A-Z]{2,})\\b')\n",
    "}\n",
    "\n",
    "pattern_count = dict.fromkeys(pattern_dict, 0)\n",
    "for item in df2[\"review_text\"]:\n",
    "    for key, value in pattern_dict.items():\n",
    "        if re.search(value, item):\n",
    "            pattern_count[key] += 1\n",
    "pattern_count"
   ]
  },
  {
   "cell_type": "code",
   "execution_count": 13,
   "id": "2dfa99d4-1554-467b-a378-2b80a7eeb69a",
   "metadata": {},
   "outputs": [],
   "source": [
    "from sklearn.model_selection import train_test_split\n",
    "from sklearn.feature_extraction.text import TfidfVectorizer\n",
    "from sklearn.naive_bayes import MultinomialNB\n",
    "from sklearn.pipeline import make_pipeline\n",
    "from sklearn.metrics import classification_report, confusion_matrix\n",
    "import string"
   ]
  },
  {
   "cell_type": "markdown",
   "id": "d1a67a52-2e9a-4d66-86d8-6ebdf3541e13",
   "metadata": {},
   "source": [
    "text cleaning and normalization"
   ]
  },
  {
   "cell_type": "code",
   "execution_count": 15,
   "id": "881dd8bf-0b35-454c-8e68-58503312153f",
   "metadata": {
    "scrolled": true
   },
   "outputs": [],
   "source": [
    "def clean_text(text):\n",
    "    text = text.lower()\n",
    "    text = text.translate(str.maketrans(\" \", \" \", string.punctuation))\n",
    "    return text\n",
    "\n",
    "df3 = df2.copy()\n",
    "df3.loc[:, \"review_text\"] = df3.loc[:, \"review_text\"].apply(clean_text)"
   ]
  },
  {
   "cell_type": "markdown",
   "id": "56ba9af4-7351-4be6-927b-1010a853a560",
   "metadata": {},
   "source": [
    "data split"
   ]
  },
  {
   "cell_type": "code",
   "execution_count": 64,
   "id": "b3f352c1-aa69-4921-b95a-968948224d3c",
   "metadata": {},
   "outputs": [],
   "source": [
    "x = df3.loc[:, \"review_text\"]\n",
    "y = df3.loc[:, \"rating\"]\n",
    "x_train, x_test, y_train, y_test = train_test_split(x, y, test_size=0.20, random_state = 365)"
   ]
  },
  {
   "cell_type": "code",
   "execution_count": 66,
   "id": "2b85d000-ba3a-40e9-ad14-aeae358c5b91",
   "metadata": {},
   "outputs": [
    {
     "name": "stdout",
     "output_type": "stream",
     "text": [
      " x_train: 18112; x_test: 4529\n",
      " y_train 18112; y_test: 4529\n"
     ]
    }
   ],
   "source": [
    "print(f\" x_train: {x_train.shape[0]}; x_test: {x_test.shape[0]}\\n y_train {y_train.shape[0]}; y_test: {y_test.shape[0]}\")"
   ]
  },
  {
   "cell_type": "markdown",
   "id": "a2b62db8-dfdf-4f24-a00a-c431bc7fb979",
   "metadata": {},
   "source": []
  },
  {
   "cell_type": "code",
   "execution_count": 68,
   "id": "64e8aec5-2d1d-47f5-821d-5d6a0bb3b781",
   "metadata": {},
   "outputs": [],
   "source": [
    "vectorizer = TfidfVectorizer(stop_words=\"english\")\n",
    "model = MultinomialNB()\n",
    "text_pipe = make_pipeline(vectorizer, model)\n",
    "text_pipe.fit(x_train, y_train)\n",
    "y_pred =  text_pipe.predict(x_test)\n",
    "report = classification_report(y_test, y_pred, zero_division=np.nan, output_dict=True)\n",
    "confusion_mtx = confusion_matrix(y_test, y_pred)"
   ]
  },
  {
   "cell_type": "code",
   "execution_count": 108,
   "id": "d12c9821-fc90-4d46-b9fc-176c35f141d5",
   "metadata": {},
   "outputs": [
    {
     "data": {
      "text/html": [
       "<div>\n",
       "<style scoped>\n",
       "    .dataframe tbody tr th:only-of-type {\n",
       "        vertical-align: middle;\n",
       "    }\n",
       "\n",
       "    .dataframe tbody tr th {\n",
       "        vertical-align: top;\n",
       "    }\n",
       "\n",
       "    .dataframe thead th {\n",
       "        text-align: right;\n",
       "    }\n",
       "</style>\n",
       "<table border=\"1\" class=\"dataframe\">\n",
       "  <thead>\n",
       "    <tr style=\"text-align: right;\">\n",
       "      <th></th>\n",
       "      <th>1</th>\n",
       "      <th>2</th>\n",
       "      <th>3</th>\n",
       "      <th>4</th>\n",
       "      <th>5</th>\n",
       "    </tr>\n",
       "  </thead>\n",
       "  <tbody>\n",
       "    <tr>\n",
       "      <th>1</th>\n",
       "      <td>0</td>\n",
       "      <td>0</td>\n",
       "      <td>4</td>\n",
       "      <td>3</td>\n",
       "      <td>156</td>\n",
       "    </tr>\n",
       "    <tr>\n",
       "      <th>2</th>\n",
       "      <td>0</td>\n",
       "      <td>0</td>\n",
       "      <td>3</td>\n",
       "      <td>1</td>\n",
       "      <td>315</td>\n",
       "    </tr>\n",
       "    <tr>\n",
       "      <th>3</th>\n",
       "      <td>0</td>\n",
       "      <td>0</td>\n",
       "      <td>2</td>\n",
       "      <td>4</td>\n",
       "      <td>523</td>\n",
       "    </tr>\n",
       "    <tr>\n",
       "      <th>4</th>\n",
       "      <td>0</td>\n",
       "      <td>0</td>\n",
       "      <td>0</td>\n",
       "      <td>3</td>\n",
       "      <td>964</td>\n",
       "    </tr>\n",
       "    <tr>\n",
       "      <th>5</th>\n",
       "      <td>0</td>\n",
       "      <td>0</td>\n",
       "      <td>0</td>\n",
       "      <td>1</td>\n",
       "      <td>2550</td>\n",
       "    </tr>\n",
       "  </tbody>\n",
       "</table>\n",
       "</div>"
      ],
      "text/plain": [
       "   1  2  3  4     5\n",
       "1  0  0  4  3   156\n",
       "2  0  0  3  1   315\n",
       "3  0  0  2  4   523\n",
       "4  0  0  0  3   964\n",
       "5  0  0  0  1  2550"
      ]
     },
     "execution_count": 108,
     "metadata": {},
     "output_type": "execute_result"
    }
   ],
   "source": [
    "pd.DataFrame(confusion_mtx, columns = [1, 2, 3, 4, 5], index = [1, 2, 3, 4, 5])"
   ]
  },
  {
   "cell_type": "code",
   "execution_count": 221,
   "id": "2673dbe3-c6ff-4424-b667-67b9c0f642e1",
   "metadata": {},
   "outputs": [
    {
     "data": {
      "text/html": [
       "<div>\n",
       "<style scoped>\n",
       "    .dataframe tbody tr th:only-of-type {\n",
       "        vertical-align: middle;\n",
       "    }\n",
       "\n",
       "    .dataframe tbody tr th {\n",
       "        vertical-align: top;\n",
       "    }\n",
       "\n",
       "    .dataframe thead th {\n",
       "        text-align: right;\n",
       "    }\n",
       "</style>\n",
       "<table border=\"1\" class=\"dataframe\">\n",
       "  <thead>\n",
       "    <tr style=\"text-align: right;\">\n",
       "      <th></th>\n",
       "      <th>1</th>\n",
       "      <th>2</th>\n",
       "      <th>3</th>\n",
       "      <th>4</th>\n",
       "      <th>5</th>\n",
       "      <th>accuracy</th>\n",
       "      <th>macro avg</th>\n",
       "      <th>weighted avg</th>\n",
       "    </tr>\n",
       "  </thead>\n",
       "  <tbody>\n",
       "    <tr>\n",
       "      <th>precision</th>\n",
       "      <td>NaN</td>\n",
       "      <td>NaN</td>\n",
       "      <td>0.222222</td>\n",
       "      <td>0.250000</td>\n",
       "      <td>0.565661</td>\n",
       "      <td>0.564142</td>\n",
       "      <td>0.345961</td>\n",
       "      <td>0.445344</td>\n",
       "    </tr>\n",
       "    <tr>\n",
       "      <th>recall</th>\n",
       "      <td>0.0</td>\n",
       "      <td>0.0</td>\n",
       "      <td>0.003781</td>\n",
       "      <td>0.003102</td>\n",
       "      <td>0.999608</td>\n",
       "      <td>0.564142</td>\n",
       "      <td>0.201298</td>\n",
       "      <td>0.564142</td>\n",
       "    </tr>\n",
       "    <tr>\n",
       "      <th>f1-score</th>\n",
       "      <td>0.0</td>\n",
       "      <td>0.0</td>\n",
       "      <td>0.007435</td>\n",
       "      <td>0.006129</td>\n",
       "      <td>0.722482</td>\n",
       "      <td>0.564142</td>\n",
       "      <td>0.147209</td>\n",
       "      <td>0.409121</td>\n",
       "    </tr>\n",
       "    <tr>\n",
       "      <th>support</th>\n",
       "      <td>163.0</td>\n",
       "      <td>319.0</td>\n",
       "      <td>529.000000</td>\n",
       "      <td>967.000000</td>\n",
       "      <td>2551.000000</td>\n",
       "      <td>0.564142</td>\n",
       "      <td>4529.000000</td>\n",
       "      <td>4529.000000</td>\n",
       "    </tr>\n",
       "  </tbody>\n",
       "</table>\n",
       "</div>"
      ],
      "text/plain": [
       "               1      2           3           4            5  accuracy  \\\n",
       "precision    NaN    NaN    0.222222    0.250000     0.565661  0.564142   \n",
       "recall       0.0    0.0    0.003781    0.003102     0.999608  0.564142   \n",
       "f1-score     0.0    0.0    0.007435    0.006129     0.722482  0.564142   \n",
       "support    163.0  319.0  529.000000  967.000000  2551.000000  0.564142   \n",
       "\n",
       "             macro avg  weighted avg  \n",
       "precision     0.345961      0.445344  \n",
       "recall        0.201298      0.564142  \n",
       "f1-score      0.147209      0.409121  \n",
       "support    4529.000000   4529.000000  "
      ]
     },
     "execution_count": 221,
     "metadata": {},
     "output_type": "execute_result"
    }
   ],
   "source": [
    "pd.DataFrame(report)"
   ]
  },
  {
   "cell_type": "code",
   "execution_count": 116,
   "id": "b40cef5a-427d-4775-a75e-822ac8116ae4",
   "metadata": {},
   "outputs": [
    {
     "data": {
      "text/plain": [
       "rating\n",
       "5    12540\n",
       "4     4908\n",
       "3     2823\n",
       "2     1549\n",
       "1      821\n",
       "Name: count, dtype: int64"
      ]
     },
     "execution_count": 116,
     "metadata": {},
     "output_type": "execute_result"
    }
   ],
   "source": [
    "df3.rating.value_counts()"
   ]
  },
  {
   "cell_type": "markdown",
   "id": "d570515c-e4ef-4898-9764-26cb71d7e80b",
   "metadata": {},
   "source": [
    "sınıf dağılımları dengesiz olduğundan upsampling yapılarak dengeli hale getirilecektir."
   ]
  },
  {
   "cell_type": "code",
   "execution_count": 138,
   "id": "245639ec-b721-4747-85bd-0da897f9911b",
   "metadata": {},
   "outputs": [],
   "source": [
    "from sklearn.utils import resample\n",
    "\n",
    "df_majority = df3[df3.rating == 5]\n",
    "df_minority = df3[df3.rating < 5]\n",
    "\n",
    "\n",
    "df_minority_upsample = resample(df_minority, replace=True, n_samples=len(df_majority), random_state = 365)\n",
    "\n",
    "df_upsample = pd.concat([df_majority, df_minority_upsample], ignore_index = True)"
   ]
  },
  {
   "cell_type": "code",
   "execution_count": 219,
   "id": "64c73a75-62fc-498a-9f2e-c1a7bdc63919",
   "metadata": {},
   "outputs": [
    {
     "data": {
      "text/plain": [
       "rating\n",
       "5    12540\n",
       "4     5975\n",
       "3     3520\n",
       "2     1948\n",
       "1     1097\n",
       "Name: count, dtype: int64"
      ]
     },
     "execution_count": 219,
     "metadata": {},
     "output_type": "execute_result"
    }
   ],
   "source": [
    "df_upsample[\"rating\"].value_counts()"
   ]
  },
  {
   "cell_type": "code",
   "execution_count": null,
   "id": "cc84e66a-a9df-4d3a-aa8f-dad0a3df8e42",
   "metadata": {},
   "outputs": [],
   "source": [
    "x_upsample = df_upsample[\"review_text\"]\n",
    "y_upsample = df_upsample[\"rating\"]\n",
    "\n",
    "x_upsample_train, x_upsample_test, y_upsample_train, y_upsample_test = train_test_split(x_upsample, y_upsample, test_size=0.20, random_state=365)\n",
    "text_pipe_upsample = make_pipeline(vectorizer, model)\n",
    "text_pipe_upsample.fit(x_upsample_train, y_upsample_train )\n",
    "y_pred_upsample = text_pipe_upsample.predict(x_upsample_test)\n",
    "report_upsample = classification_report(y_upsample_test, y_pred_upsample, output_dict=True)\n",
    "confusion_mtx_upsample = confusion_matrix(y_upsample_test, y_pred_upsample)"
   ]
  },
  {
   "cell_type": "code",
   "execution_count": 170,
   "id": "bdd4a36e-23e1-4097-91f6-6ad0f47510c3",
   "metadata": {},
   "outputs": [
    {
     "data": {
      "text/html": [
       "<div>\n",
       "<style scoped>\n",
       "    .dataframe tbody tr th:only-of-type {\n",
       "        vertical-align: middle;\n",
       "    }\n",
       "\n",
       "    .dataframe tbody tr th {\n",
       "        vertical-align: top;\n",
       "    }\n",
       "\n",
       "    .dataframe thead th {\n",
       "        text-align: right;\n",
       "    }\n",
       "</style>\n",
       "<table border=\"1\" class=\"dataframe\">\n",
       "  <thead>\n",
       "    <tr style=\"text-align: right;\">\n",
       "      <th></th>\n",
       "      <th>1</th>\n",
       "      <th>2</th>\n",
       "      <th>3</th>\n",
       "      <th>4</th>\n",
       "      <th>5</th>\n",
       "    </tr>\n",
       "  </thead>\n",
       "  <tbody>\n",
       "    <tr>\n",
       "      <th>1</th>\n",
       "      <td>4</td>\n",
       "      <td>0</td>\n",
       "      <td>17</td>\n",
       "      <td>23</td>\n",
       "      <td>171</td>\n",
       "    </tr>\n",
       "    <tr>\n",
       "      <th>2</th>\n",
       "      <td>0</td>\n",
       "      <td>3</td>\n",
       "      <td>16</td>\n",
       "      <td>42</td>\n",
       "      <td>348</td>\n",
       "    </tr>\n",
       "    <tr>\n",
       "      <th>3</th>\n",
       "      <td>0</td>\n",
       "      <td>0</td>\n",
       "      <td>48</td>\n",
       "      <td>49</td>\n",
       "      <td>635</td>\n",
       "    </tr>\n",
       "    <tr>\n",
       "      <th>4</th>\n",
       "      <td>0</td>\n",
       "      <td>0</td>\n",
       "      <td>0</td>\n",
       "      <td>113</td>\n",
       "      <td>1105</td>\n",
       "    </tr>\n",
       "    <tr>\n",
       "      <th>5</th>\n",
       "      <td>0</td>\n",
       "      <td>0</td>\n",
       "      <td>0</td>\n",
       "      <td>6</td>\n",
       "      <td>2436</td>\n",
       "    </tr>\n",
       "  </tbody>\n",
       "</table>\n",
       "</div>"
      ],
      "text/plain": [
       "   1  2   3    4     5\n",
       "1  4  0  17   23   171\n",
       "2  0  3  16   42   348\n",
       "3  0  0  48   49   635\n",
       "4  0  0   0  113  1105\n",
       "5  0  0   0    6  2436"
      ]
     },
     "execution_count": 170,
     "metadata": {},
     "output_type": "execute_result"
    }
   ],
   "source": [
    "pd.DataFrame(confusion_mtx_upsample, columns = [1, 2, 3, 4, 5], index = [1, 2, 3, 4, 5])"
   ]
  },
  {
   "cell_type": "code",
   "execution_count": 166,
   "id": "c70d2081-b611-4b48-8088-cac71964d7be",
   "metadata": {},
   "outputs": [
    {
     "data": {
      "text/html": [
       "<div>\n",
       "<style scoped>\n",
       "    .dataframe tbody tr th:only-of-type {\n",
       "        vertical-align: middle;\n",
       "    }\n",
       "\n",
       "    .dataframe tbody tr th {\n",
       "        vertical-align: top;\n",
       "    }\n",
       "\n",
       "    .dataframe thead th {\n",
       "        text-align: right;\n",
       "    }\n",
       "</style>\n",
       "<table border=\"1\" class=\"dataframe\">\n",
       "  <thead>\n",
       "    <tr style=\"text-align: right;\">\n",
       "      <th></th>\n",
       "      <th>1</th>\n",
       "      <th>2</th>\n",
       "      <th>3</th>\n",
       "      <th>4</th>\n",
       "      <th>5</th>\n",
       "      <th>accuracy</th>\n",
       "      <th>macro avg</th>\n",
       "      <th>weighted avg</th>\n",
       "    </tr>\n",
       "  </thead>\n",
       "  <tbody>\n",
       "    <tr>\n",
       "      <th>precision</th>\n",
       "      <td>1.000000</td>\n",
       "      <td>1.000000</td>\n",
       "      <td>0.592593</td>\n",
       "      <td>0.484979</td>\n",
       "      <td>0.518850</td>\n",
       "      <td>0.519139</td>\n",
       "      <td>0.719284</td>\n",
       "      <td>0.581243</td>\n",
       "    </tr>\n",
       "    <tr>\n",
       "      <th>recall</th>\n",
       "      <td>0.018605</td>\n",
       "      <td>0.007335</td>\n",
       "      <td>0.065574</td>\n",
       "      <td>0.092775</td>\n",
       "      <td>0.997543</td>\n",
       "      <td>0.519139</td>\n",
       "      <td>0.236366</td>\n",
       "      <td>0.519139</td>\n",
       "    </tr>\n",
       "    <tr>\n",
       "      <th>f1-score</th>\n",
       "      <td>0.036530</td>\n",
       "      <td>0.014563</td>\n",
       "      <td>0.118081</td>\n",
       "      <td>0.155755</td>\n",
       "      <td>0.682640</td>\n",
       "      <td>0.519139</td>\n",
       "      <td>0.201514</td>\n",
       "      <td>0.390144</td>\n",
       "    </tr>\n",
       "    <tr>\n",
       "      <th>support</th>\n",
       "      <td>215.000000</td>\n",
       "      <td>409.000000</td>\n",
       "      <td>732.000000</td>\n",
       "      <td>1218.000000</td>\n",
       "      <td>2442.000000</td>\n",
       "      <td>0.519139</td>\n",
       "      <td>5016.000000</td>\n",
       "      <td>5016.000000</td>\n",
       "    </tr>\n",
       "  </tbody>\n",
       "</table>\n",
       "</div>"
      ],
      "text/plain": [
       "                    1           2           3            4            5  \\\n",
       "precision    1.000000    1.000000    0.592593     0.484979     0.518850   \n",
       "recall       0.018605    0.007335    0.065574     0.092775     0.997543   \n",
       "f1-score     0.036530    0.014563    0.118081     0.155755     0.682640   \n",
       "support    215.000000  409.000000  732.000000  1218.000000  2442.000000   \n",
       "\n",
       "           accuracy    macro avg  weighted avg  \n",
       "precision  0.519139     0.719284      0.581243  \n",
       "recall     0.519139     0.236366      0.519139  \n",
       "f1-score   0.519139     0.201514      0.390144  \n",
       "support    0.519139  5016.000000   5016.000000  "
      ]
     },
     "execution_count": 166,
     "metadata": {},
     "output_type": "execute_result"
    }
   ],
   "source": [
    "pd.DataFrame(report_upsample)"
   ]
  },
  {
   "cell_type": "markdown",
   "id": "32e04e5d-57a7-41c3-9aa3-d27220d8070c",
   "metadata": {},
   "source": [
    "tahmin gücü biraz daha artmış durumda. ancak istenilen düzeyde değil. sınıfları binary olacak şekilde yeniden oluşturarak tahmin gücünü daha fazla arttırılabilir"
   ]
  },
  {
   "cell_type": "code",
   "execution_count": 184,
   "id": "4171503f-e21b-4da1-8160-4d93fb12ca00",
   "metadata": {},
   "outputs": [],
   "source": [
    "def binary(rating):\n",
    "    if rating >=4:\n",
    "        return \"good\"\n",
    "    else:\n",
    "        return \"bad\"\n",
    "\n",
    "binary_rating = df3.copy()\n",
    "binary_rating[\"rating\"] =  binary_rating[\"rating\"].apply(binary)\n",
    "\n",
    "\n",
    "x_binary = binary_rating[\"review_text\"]\n",
    "y_binary = binary_rating[\"rating\"]\n",
    "\n",
    "x_train_binary, x_test_binary, y_train_binary, y_test_binary = train_test_split(x_binary, y_binary, test_size=0.20, random_state=365)\n",
    "text_pipe_binary = make_pipeline(vectorizer, model)\n",
    "text_pipe_binary.fit(x_train_binary, y_train_binary)\n",
    "y_pred_binary = text_pipe_binary.predict(x_test_binary)\n",
    "\n",
    "report_binary = classification_report(y_test_binary, y_pred_binary, output_dict=True)\n",
    "confusion_mtx_binary = confusion_matrix(y_test_binary, y_pred_binary)"
   ]
  },
  {
   "cell_type": "code",
   "execution_count": 223,
   "id": "7c56d6f2-3dd3-402d-9553-5256ffde7ed2",
   "metadata": {},
   "outputs": [
    {
     "data": {
      "text/html": [
       "<div>\n",
       "<style scoped>\n",
       "    .dataframe tbody tr th:only-of-type {\n",
       "        vertical-align: middle;\n",
       "    }\n",
       "\n",
       "    .dataframe tbody tr th {\n",
       "        vertical-align: top;\n",
       "    }\n",
       "\n",
       "    .dataframe thead th {\n",
       "        text-align: right;\n",
       "    }\n",
       "</style>\n",
       "<table border=\"1\" class=\"dataframe\">\n",
       "  <thead>\n",
       "    <tr style=\"text-align: right;\">\n",
       "      <th></th>\n",
       "      <th>bad</th>\n",
       "      <th>good</th>\n",
       "      <th>accuracy</th>\n",
       "      <th>macro avg</th>\n",
       "      <th>weighted avg</th>\n",
       "    </tr>\n",
       "  </thead>\n",
       "  <tbody>\n",
       "    <tr>\n",
       "      <th>precision</th>\n",
       "      <td>0.984127</td>\n",
       "      <td>0.787506</td>\n",
       "      <td>0.790241</td>\n",
       "      <td>0.885816</td>\n",
       "      <td>0.831397</td>\n",
       "    </tr>\n",
       "    <tr>\n",
       "      <th>recall</th>\n",
       "      <td>0.061325</td>\n",
       "      <td>0.999716</td>\n",
       "      <td>0.790241</td>\n",
       "      <td>0.530521</td>\n",
       "      <td>0.790241</td>\n",
       "    </tr>\n",
       "    <tr>\n",
       "      <th>f1-score</th>\n",
       "      <td>0.115456</td>\n",
       "      <td>0.881012</td>\n",
       "      <td>0.790241</td>\n",
       "      <td>0.498234</td>\n",
       "      <td>0.710118</td>\n",
       "    </tr>\n",
       "    <tr>\n",
       "      <th>support</th>\n",
       "      <td>1011.000000</td>\n",
       "      <td>3518.000000</td>\n",
       "      <td>0.790241</td>\n",
       "      <td>4529.000000</td>\n",
       "      <td>4529.000000</td>\n",
       "    </tr>\n",
       "  </tbody>\n",
       "</table>\n",
       "</div>"
      ],
      "text/plain": [
       "                   bad         good  accuracy    macro avg  weighted avg\n",
       "precision     0.984127     0.787506  0.790241     0.885816      0.831397\n",
       "recall        0.061325     0.999716  0.790241     0.530521      0.790241\n",
       "f1-score      0.115456     0.881012  0.790241     0.498234      0.710118\n",
       "support    1011.000000  3518.000000  0.790241  4529.000000   4529.000000"
      ]
     },
     "execution_count": 223,
     "metadata": {},
     "output_type": "execute_result"
    }
   ],
   "source": [
    "pd.DataFrame(report_binary)"
   ]
  },
  {
   "cell_type": "code",
   "execution_count": 186,
   "id": "c6856889-113c-4809-8822-e92086f2d4b9",
   "metadata": {},
   "outputs": [
    {
     "data": {
      "text/plain": [
       "array([[  62,  949],\n",
       "       [   1, 3517]], dtype=int64)"
      ]
     },
     "execution_count": 186,
     "metadata": {},
     "output_type": "execute_result"
    }
   ],
   "source": [
    "confusion_mtx_binary"
   ]
  },
  {
   "cell_type": "code",
   "execution_count": 190,
   "id": "b5133337-a42e-45bf-b0d4-0afa3c2721d7",
   "metadata": {},
   "outputs": [
    {
     "data": {
      "image/png": "[encoded data removed]",
      "text/plain": [
       "<Figure size 800x600 with 2 Axes>"
      ]
     },
     "metadata": {},
     "output_type": "display_data"
    },
    {
     "data": {
      "text/html": [
       "<div>\n",
       "<style scoped>\n",
       "    .dataframe tbody tr th:only-of-type {\n",
       "        vertical-align: middle;\n",
       "    }\n",
       "\n",
       "    .dataframe tbody tr th {\n",
       "        vertical-align: top;\n",
       "    }\n",
       "\n",
       "    .dataframe thead th {\n",
       "        text-align: right;\n",
       "    }\n",
       "</style>\n",
       "<table border=\"1\" class=\"dataframe\">\n",
       "  <thead>\n",
       "    <tr style=\"text-align: right;\">\n",
       "      <th></th>\n",
       "      <th>bad</th>\n",
       "      <th>good</th>\n",
       "      <th>accuracy</th>\n",
       "      <th>macro avg</th>\n",
       "      <th>weighted avg</th>\n",
       "    </tr>\n",
       "  </thead>\n",
       "  <tbody>\n",
       "    <tr>\n",
       "      <th>precision</th>\n",
       "      <td>0.984127</td>\n",
       "      <td>0.787506</td>\n",
       "      <td>0.790241</td>\n",
       "      <td>0.885816</td>\n",
       "      <td>0.831397</td>\n",
       "    </tr>\n",
       "    <tr>\n",
       "      <th>recall</th>\n",
       "      <td>0.061325</td>\n",
       "      <td>0.999716</td>\n",
       "      <td>0.790241</td>\n",
       "      <td>0.530521</td>\n",
       "      <td>0.790241</td>\n",
       "    </tr>\n",
       "    <tr>\n",
       "      <th>f1-score</th>\n",
       "      <td>0.115456</td>\n",
       "      <td>0.881012</td>\n",
       "      <td>0.790241</td>\n",
       "      <td>0.498234</td>\n",
       "      <td>0.710118</td>\n",
       "    </tr>\n",
       "    <tr>\n",
       "      <th>support</th>\n",
       "      <td>1011.000000</td>\n",
       "      <td>3518.000000</td>\n",
       "      <td>0.790241</td>\n",
       "      <td>4529.000000</td>\n",
       "      <td>4529.000000</td>\n",
       "    </tr>\n",
       "  </tbody>\n",
       "</table>\n",
       "</div>"
      ],
      "text/plain": [
       "                   bad         good  accuracy    macro avg  weighted avg\n",
       "precision     0.984127     0.787506  0.790241     0.885816      0.831397\n",
       "recall        0.061325     0.999716  0.790241     0.530521      0.790241\n",
       "f1-score      0.115456     0.881012  0.790241     0.498234      0.710118\n",
       "support    1011.000000  3518.000000  0.790241  4529.000000   4529.000000"
      ]
     },
     "execution_count": 190,
     "metadata": {},
     "output_type": "execute_result"
    }
   ],
   "source": [
    "plt.figure(figsize=(8, 6))\n",
    "sns.heatmap(confusion_mtx_binary, annot=True, fmt='d', cmap='Blues', \n",
    "            xticklabels=['bad', 'good'], yticklabels=['bad', 'good'])\n",
    "plt.ylabel('Actual')\n",
    "plt.xlabel('Predicted')\n",
    "plt.title('Confusion Matrix')\n",
    "plt.show()\n",
    "pd.DataFrame(report_binary)"
   ]
  },
  {
   "cell_type": "code",
   "execution_count": null,
   "id": "c9b27fc4-84d8-4594-87d3-2c50d227e7b4",
   "metadata": {},
   "outputs": [],
   "source": []
  },
  {
   "cell_type": "markdown",
   "id": "5007d1fe-e41e-4efd-8219-6902cafbd9f8",
   "metadata": {},
   "source": [
    "upsampling işlemini binary dataset için de uygulanması"
   ]
  },
  {
   "cell_type": "code",
   "execution_count": 194,
   "id": "f166be26-77bd-4449-ae4d-2539ea28bfd7",
   "metadata": {},
   "outputs": [
    {
     "data": {
      "text/plain": [
       "rating\n",
       "good    17448\n",
       "bad      5193\n",
       "Name: count, dtype: int64"
      ]
     },
     "execution_count": 194,
     "metadata": {},
     "output_type": "execute_result"
    }
   ],
   "source": [
    "binary_rating[\"rating\"].value_counts()"
   ]
  },
  {
   "cell_type": "code",
   "execution_count": 196,
   "id": "d88b3771-4684-4e18-9a07-5df63088f9aa",
   "metadata": {},
   "outputs": [
    {
     "data": {
      "text/plain": [
       "rating\n",
       "good    17448\n",
       "bad     17448\n",
       "Name: count, dtype: int64"
      ]
     },
     "execution_count": 196,
     "metadata": {},
     "output_type": "execute_result"
    }
   ],
   "source": [
    "df_majority_binary = binary_rating[binary_rating.rating == 'good']\n",
    "df_minority_binary = binary_rating[binary_rating.rating == 'bad']\n",
    "\n",
    "\n",
    "df_minority_upsampled_binary = resample(df_minority_binary, \n",
    "                                        replace=True,     \n",
    "                                        n_samples=len(df_majority_binary), \n",
    "                                        random_state=365) \n",
    "\n",
    "\n",
    "df_upsampled_binary = pd.concat([df_majority_binary, df_minority_upsampled_binary])\n",
    "\n",
    "\n",
    "df_upsampled_binary[\"rating\"].value_counts()\n"
   ]
  },
  {
   "cell_type": "code",
   "execution_count": 204,
   "id": "c6cf1944-039a-41c6-8c7c-5b79401054e8",
   "metadata": {},
   "outputs": [],
   "source": [
    "x_upsampled_binary = df_upsampled_binary['review_text']\n",
    "y_upsampled_binary = df_upsampled_binary['rating']\n",
    "\n",
    "\n",
    "x_train_upsampled_binary, x_test_upsampled_binary, y_train_upsampled_binary, y_test_upsampled_binary = train_test_split(\n",
    "    x_upsampled_binary, y_upsampled_binary, test_size=0.2, random_state=365)\n",
    "\n",
    "\n",
    "text_pipe_upsampled_binary = make_pipeline(vectorizer, model)\n",
    "text_pipe_upsampled_binary.fit(x_train_upsampled_binary, y_train_upsampled_binary)\n",
    "\n",
    "y_pred_upsampled_binary = text_pipe_upsampled_binary.predict(x_test_upsampled_binary)\n",
    "\n",
    "\n",
    "report_upsampled_binary = classification_report(y_test_upsampled_binary, y_pred_upsampled_binary, output_dict=True)\n",
    "\n",
    "\n",
    "confusion_mtx_upsampled_binary = confusion_matrix(y_test_upsampled_binary, y_pred_upsampled_binary)\n"
   ]
  },
  {
   "cell_type": "code",
   "execution_count": 206,
   "id": "e5872b5a-b393-4fda-abbf-9dde8709b127",
   "metadata": {},
   "outputs": [
    {
     "data": {
      "image/png": "[encoded data removed]",
      "text/plain": [
       "<Figure size 800x600 with 2 Axes>"
      ]
     },
     "metadata": {},
     "output_type": "display_data"
    },
    {
     "data": {
      "text/html": [
       "<div>\n",
       "<style scoped>\n",
       "    .dataframe tbody tr th:only-of-type {\n",
       "        vertical-align: middle;\n",
       "    }\n",
       "\n",
       "    .dataframe tbody tr th {\n",
       "        vertical-align: top;\n",
       "    }\n",
       "\n",
       "    .dataframe thead th {\n",
       "        text-align: right;\n",
       "    }\n",
       "</style>\n",
       "<table border=\"1\" class=\"dataframe\">\n",
       "  <thead>\n",
       "    <tr style=\"text-align: right;\">\n",
       "      <th></th>\n",
       "      <th>bad</th>\n",
       "      <th>good</th>\n",
       "      <th>accuracy</th>\n",
       "      <th>macro avg</th>\n",
       "      <th>weighted avg</th>\n",
       "    </tr>\n",
       "  </thead>\n",
       "  <tbody>\n",
       "    <tr>\n",
       "      <th>precision</th>\n",
       "      <td>0.853430</td>\n",
       "      <td>0.899631</td>\n",
       "      <td>0.874928</td>\n",
       "      <td>0.876530</td>\n",
       "      <td>0.876391</td>\n",
       "    </tr>\n",
       "    <tr>\n",
       "      <th>recall</th>\n",
       "      <td>0.907149</td>\n",
       "      <td>0.842318</td>\n",
       "      <td>0.874928</td>\n",
       "      <td>0.874733</td>\n",
       "      <td>0.874928</td>\n",
       "    </tr>\n",
       "    <tr>\n",
       "      <th>f1-score</th>\n",
       "      <td>0.879470</td>\n",
       "      <td>0.870031</td>\n",
       "      <td>0.874928</td>\n",
       "      <td>0.874751</td>\n",
       "      <td>0.874779</td>\n",
       "    </tr>\n",
       "    <tr>\n",
       "      <th>support</th>\n",
       "      <td>3511.000000</td>\n",
       "      <td>3469.000000</td>\n",
       "      <td>0.874928</td>\n",
       "      <td>6980.000000</td>\n",
       "      <td>6980.000000</td>\n",
       "    </tr>\n",
       "  </tbody>\n",
       "</table>\n",
       "</div>"
      ],
      "text/plain": [
       "                   bad         good  accuracy    macro avg  weighted avg\n",
       "precision     0.853430     0.899631  0.874928     0.876530      0.876391\n",
       "recall        0.907149     0.842318  0.874928     0.874733      0.874928\n",
       "f1-score      0.879470     0.870031  0.874928     0.874751      0.874779\n",
       "support    3511.000000  3469.000000  0.874928  6980.000000   6980.000000"
      ]
     },
     "execution_count": 206,
     "metadata": {},
     "output_type": "execute_result"
    }
   ],
   "source": [
    "plt.figure(figsize=(8, 6))\n",
    "sns.heatmap(confusion_mtx_upsampled_binary, annot=True, fmt='d', cmap='Blues', \n",
    "            xticklabels=['bad', 'good'], yticklabels=['bad', 'good'])\n",
    "plt.ylabel('Actual')\n",
    "plt.xlabel('Predicted')\n",
    "plt.title('Confusion Matrix')\n",
    "plt.show()\n",
    "pd.DataFrame(report_upsampled_binary)"
   ]
  },
  {
   "cell_type": "markdown",
   "id": "daae7da7-d917-491b-9e12-6167d5dd1a57",
   "metadata": {},
   "source": [
    "f1-score 1 e yaklaştıkça modelin tahmin gücü ve performansı artar."
   ]
  },
  {
   "cell_type": "markdown",
   "id": "a3676e78-a76e-499c-9a8b-2f814edbb9db",
   "metadata": {},
   "source": [
    "#### modelin test edilmesi"
   ]
  },
  {
   "cell_type": "code",
   "execution_count": 304,
   "id": "a52afb03-554d-4fe4-aa38-7fb31f52b203",
   "metadata": {},
   "outputs": [],
   "source": [
    "test_data = pd.read_csv(r\"C:\\Users\\yy\\Desktop\\test_data.csv\")"
   ]
  },
  {
   "cell_type": "code",
   "execution_count": 306,
   "id": "8f5a3a5e-2357-4510-aa0d-4356e2729d5f",
   "metadata": {},
   "outputs": [],
   "source": [
    "test_data.columns = list(map(lambda x: x.lower(), test_data.columns))\n",
    "test_data.columns  = list(map(lambda x: x.replace(\" \", \"_\"), test_data.columns))\n",
    "test_data2 = test_data.copy()\n",
    "test_data2 = test_data2.dropna(subset = \"review_text\", ignore_index=True)\n",
    "test_data2.loc[:, \"review_text\"] = test_data2.loc[: ,\"review_text\"].apply(clean_text)"
   ]
  },
  {
   "cell_type": "code",
   "execution_count": null,
   "id": "a0848af2-3440-4850-b60a-43784da86275",
   "metadata": {},
   "outputs": [],
   "source": [
    "test_data2.loc[:, \"rating\"] = test_data2.loc[:,\"rating\"].astype(dtype = \"int64\")\n",
    "test_data2.loc[:, \"rating\"] = test_data2.loc[:,\"rating\"].apply(binary)"
   ]
  },
  {
   "cell_type": "code",
   "execution_count": 324,
   "id": "437cd694-bdef-411d-b5bc-d995f4641c2d",
   "metadata": {},
   "outputs": [
    {
     "data": {
      "image/png": "[encoded data removed]",
      "text/plain": [
       "<Figure size 800x600 with 2 Axes>"
      ]
     },
     "metadata": {},
     "output_type": "display_data"
    },
    {
     "data": {
      "text/html": [
       "<div>\n",
       "<style scoped>\n",
       "    .dataframe tbody tr th:only-of-type {\n",
       "        vertical-align: middle;\n",
       "    }\n",
       "\n",
       "    .dataframe tbody tr th {\n",
       "        vertical-align: top;\n",
       "    }\n",
       "\n",
       "    .dataframe thead th {\n",
       "        text-align: right;\n",
       "    }\n",
       "</style>\n",
       "<table border=\"1\" class=\"dataframe\">\n",
       "  <thead>\n",
       "    <tr style=\"text-align: right;\">\n",
       "      <th></th>\n",
       "      <th>bad</th>\n",
       "      <th>good</th>\n",
       "      <th>accuracy</th>\n",
       "      <th>macro avg</th>\n",
       "      <th>weighted avg</th>\n",
       "    </tr>\n",
       "  </thead>\n",
       "  <tbody>\n",
       "    <tr>\n",
       "      <th>precision</th>\n",
       "      <td>0.646465</td>\n",
       "      <td>0.959215</td>\n",
       "      <td>0.862357</td>\n",
       "      <td>0.802840</td>\n",
       "      <td>0.887794</td>\n",
       "    </tr>\n",
       "    <tr>\n",
       "      <th>recall</th>\n",
       "      <td>0.876712</td>\n",
       "      <td>0.858108</td>\n",
       "      <td>0.862357</td>\n",
       "      <td>0.867410</td>\n",
       "      <td>0.862357</td>\n",
       "    </tr>\n",
       "    <tr>\n",
       "      <th>f1-score</th>\n",
       "      <td>0.744186</td>\n",
       "      <td>0.905849</td>\n",
       "      <td>0.862357</td>\n",
       "      <td>0.825017</td>\n",
       "      <td>0.868931</td>\n",
       "    </tr>\n",
       "    <tr>\n",
       "      <th>support</th>\n",
       "      <td>219.000000</td>\n",
       "      <td>740.000000</td>\n",
       "      <td>0.862357</td>\n",
       "      <td>959.000000</td>\n",
       "      <td>959.000000</td>\n",
       "    </tr>\n",
       "  </tbody>\n",
       "</table>\n",
       "</div>"
      ],
      "text/plain": [
       "                  bad        good  accuracy   macro avg  weighted avg\n",
       "precision    0.646465    0.959215  0.862357    0.802840      0.887794\n",
       "recall       0.876712    0.858108  0.862357    0.867410      0.862357\n",
       "f1-score     0.744186    0.905849  0.862357    0.825017      0.868931\n",
       "support    219.000000  740.000000  0.862357  959.000000    959.000000"
      ]
     },
     "execution_count": 324,
     "metadata": {},
     "output_type": "execute_result"
    }
   ],
   "source": [
    "x_test = test_data2[\"review_text\"]\n",
    "y_test = test_data2[\"rating\"]\n",
    "\n",
    "\n",
    "y_pred_test = text_pipe_upsampled_binary.predict(x_test)\n",
    "\n",
    "test_report = classification_report(y_test, y_pred_test, output_dict=True)\n",
    "confusion_mtx_test = confusion_matrix(y_test, y_pred_test)\n",
    "plt.figure(figsize=(8, 6))\n",
    "sns.heatmap(confusion_mtx_test, annot=True, fmt='d', cmap='Blues', \n",
    "            xticklabels=['bad', 'good'], yticklabels=['bad', 'good'])\n",
    "plt.ylabel('Actual')\n",
    "plt.xlabel('Predicted')\n",
    "plt.title('Confusion Matrix')\n",
    "plt.show()\n",
    "pd.DataFrame(report_upsampled_binary)\n",
    "pd.DataFrame(test_report)"
   ]
  },
  {
   "cell_type": "markdown",
   "id": "9972a777-2a23-4d5a-8159-df5e64059857",
   "metadata": {},
   "source": [
    "Model yeni veri setinde iyi bir genel doğruluk oranı (%86.2) yakaladı"
   ]
  },
  {
   "cell_type": "code",
   "execution_count": null,
   "id": "4e7cd3ff-8be2-4a71-ad9c-1cb9706398c8",
   "metadata": {},
   "outputs": [],
   "source": []
  },
  {
   "cell_type": "code",
   "execution_count": null,
   "id": "1dfb6497-5972-4815-996c-9f7951b0ddaf",
   "metadata": {},
   "outputs": [],
   "source": []
  },
  {
   "cell_type": "code",
   "execution_count": null,
   "id": "dc6f62cf-73e2-460b-bc77-c62dcb49e71a",
   "metadata": {},
   "outputs": [],
   "source": []
  },
  {
   "cell_type": "code",
   "execution_count": null,
   "id": "e0d88563-6e1d-4c2a-8d82-8f19d68d3d43",
   "metadata": {},
   "outputs": [],
   "source": []
  }
 ],
 "metadata": {
  "kernelspec": {
   "display_name": "Python 3 (ipykernel)",
   "language": "python",
   "name": "python3"
  },
  "language_info": {
   "codemirror_mode": {
    "name": "ipython",
    "version": 3
   },
   "file_extension": ".py",
   "mimetype": "text/x-python",
   "name": "python",
   "nbconvert_exporter": "python",
   "pygments_lexer": "ipython3",
   "version": "3.12.4"
  }
 },
 "nbformat": 4,
 "nbformat_minor": 5
}
